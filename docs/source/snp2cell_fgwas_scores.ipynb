{
 "cells": [
  {
   "cell_type": "markdown",
   "id": "18a46c41-4da1-46d3-917e-e2cea883f3d4",
   "metadata": {},
   "source": [
    "# Run snp2cell with GWAS scores"
   ]
  },
  {
   "cell_type": "markdown",
   "id": "065077e8-d0fd-4073-84e8-68e83ff9b356",
   "metadata": {},
   "source": [
    "snp2cell package: https://github.com/Teichlab/snp2cell"
   ]
  },
  {
   "cell_type": "code",
   "execution_count": 1,
   "id": "0c73d2da-8fe8-4090-bb86-02508be8097b",
   "metadata": {},
   "outputs": [],
   "source": [
    "import os\n",
    "import snp2cell\n",
    "import pandas as pd\n",
    "import scanpy as sc"
   ]
  },
  {
   "cell_type": "markdown",
   "id": "99b2476a-a0bb-4b9d-a354-d178df9aac75",
   "metadata": {},
   "source": [
    "By default logging is set to \"INFO\". You can set it to \"WARNING\" to show less messages, or to \"DEBUG\" to show more. Adjusting the loglevel in a Jupyter notebook is a bit more complicated than in a plain python script, but the following cell should work if you want to adjust the log-level:"
   ]
  },
  {
   "cell_type": "code",
   "execution_count": 2,
   "id": "33d0779e-b66f-4fbc-8a16-74ee62a7b29a",
   "metadata": {},
   "outputs": [],
   "source": [
    "import logging\n",
    "\n",
    "level = logging.INFO\n",
    "\n",
    "logger = logging.getLogger()\n",
    "logger.setLevel(level)\n",
    "for handler in logger.handlers:\n",
    "    handler.setLevel(level)"
   ]
  },
  {
   "cell_type": "markdown",
   "id": "5ad11467-a422-4055-816e-b08ba0ba7e74",
   "metadata": {},
   "source": [
    "The default number of parallel jobs to use can be set globally. `snp2cell` can run on a standard computer and multiple CPUs are not necessary, but it can speed up the computations."
   ]
  },
  {
   "cell_type": "code",
   "execution_count": 3,
   "id": "a6bc9108-4fde-4cb1-9bf8-530ffcafdc59",
   "metadata": {},
   "outputs": [],
   "source": [
    "snp2cell.util.set_num_cpu(16)  # set the number of parallel jobs to use"
   ]
  },
  {
   "cell_type": "code",
   "execution_count": 4,
   "id": "c60ad315-0b44-45a5-9e6f-f60c181a57c0",
   "metadata": {},
   "outputs": [
    {
     "name": "stdout",
     "output_type": "stream",
     "text": [
      "using #CPUs: 16 of 24\n"
     ]
    }
   ],
   "source": [
    "print(f\"using #CPUs: {snp2cell.NCPU} of {os.cpu_count()}\")"
   ]
  },
  {
   "cell_type": "markdown",
   "id": "44e553d4-15d2-483a-8a22-cff2b1cb5cba",
   "metadata": {},
   "source": [
    "## params"
   ]
  },
  {
   "cell_type": "markdown",
   "id": "93e34c6c-52b0-442e-acb6-019ced8b11bc",
   "metadata": {},
   "source": [
    "To run `snp2cell` we need:\n",
    "  - a gene regulatory network (GRN)\n",
    "  - scores for the nodes of the network\n",
    "\n",
    "The GRN has to be provided as a [networkx](https://networkx.org/documentation/stable/reference/index.html) graph and scores as python dictionaries mapping the network nodes to numbers. In principle the method is quite flexible GRN in which GRNs and scores can be used.\n",
    "\n",
    "Here, we want to use an eGRN (a GRN with transcription factors (TF), genes and genomic regions bound by the TFs) and scores obtained from GWAS summary statistics. Then, we also want to overlap the GWAS scores with cell type specificity scores obtained from single cell data. For all of these steps there are helper functions to add the scores.\n",
    "\n",
    "In the end, we will have a `snp2cell` object with multiple scores:\n",
    "  - 1 GWAS based score\n",
    "  - multiple differential expression based scores, 1 for each cell type\n",
    "  - multiple overlap scores, 1 for each cell type combined with the GWAS based score\n",
    "\n",
    "In our case we will use (subsampled) lung datasets, including the eGRN as networkx graph, a single cell AnnData object of adult lung, and GWAS summary statistics from a study of COPD (GCST90244098). The overlap scores can then be seen as cell type specific disease association scores of transcription factors, genes, and genomic regions. By using network propagation, a transcription factor may be predicted with a large score if it regulates many genomic regions. This makes sense, as complex diseases often involve a large number of mutations across non-coding regions of the genome."
   ]
  },
  {
   "cell_type": "code",
   "execution_count": 5,
   "id": "fd0eaf36-5bfb-4894-843e-713e7171772e",
   "metadata": {},
   "outputs": [],
   "source": [
    "### input\n",
    "nx_graph_path = \"../files/lung_egrn_subset.pkl\"  # networkx DiGraph object, pickled\n",
    "anndata = \"../files/adata_lung_subsampled.h5ad\"  # single cell anndata object\n",
    "study = \"GCST90244098\"  # name for the GWAS study\n",
    "\n",
    "### object\n",
    "s2c_object_path = f\"s2c_{study}.pkl\"  # snp2cell object"
   ]
  },
  {
   "cell_type": "markdown",
   "id": "57c90cf7-a7b4-4bc0-9157-216edf1aceb2",
   "metadata": {},
   "source": [
    "## 0) create snp2cell object"
   ]
  },
  {
   "cell_type": "markdown",
   "id": "43d53900-d7cd-4af6-8652-feca4b5e9a7e",
   "metadata": {},
   "source": [
    "We start bt creating a `snp2cell` object. This will be used to store the scores we are going to compute. Then, we also add the networkx graph (GRN) to the object."
   ]
  },
  {
   "cell_type": "code",
   "execution_count": 6,
   "id": "d0e23254-5ba8-4549-be9d-ace98829367a",
   "metadata": {},
   "outputs": [],
   "source": [
    "s2c = snp2cell.SNP2CELL()"
   ]
  },
  {
   "cell_type": "code",
   "execution_count": 7,
   "id": "4a3be7ea-4b39-413c-bf26-c791b3181aeb",
   "metadata": {},
   "outputs": [],
   "source": [
    "s2c.add_grn_from_networkx(nx_graph_path)"
   ]
  },
  {
   "cell_type": "code",
   "execution_count": 8,
   "id": "4cdd60a1-2680-4ed9-bc43-9ca28258eadd",
   "metadata": {},
   "outputs": [
    {
     "data": {
      "text/plain": [
       "GRN: DiGraph with 5000 nodes and 17797 edges\n",
       "original scores: (5000, 0)\n",
       "propagated scores: (5000, 0)\n",
       "score perturbations for: None\n",
       "adata: None"
      ]
     },
     "execution_count": 8,
     "metadata": {},
     "output_type": "execute_result"
    }
   ],
   "source": [
    "s2c"
   ]
  },
  {
   "cell_type": "markdown",
   "id": "6efc15e4-01a9-42b2-b74d-05758c868057",
   "metadata": {},
   "source": [
    "## 1) save peak locations for running getLDSC"
   ]
  },
  {
   "cell_type": "markdown",
   "id": "b07a54f3-1f19-412e-9e1c-8cd9900b0684",
   "metadata": {},
   "source": [
    "Next, we want to add GWAS based scores, but first we have to compute the scoes. Different methods could be used to calculate scores for individual genes and genomic locations based on GWAS summary statistic. Here, we will compute Regional Bayes Factors (RBF) for genomic regions using an implementation in the `nf-fgwas` [pipeline](https://github.com/cellgeni/nf-fgwas). Steps 1) - 3) cover this process.\n",
    "\n",
    "For this we need to export the genomic locations from our GRN. The following function can help with this, it will create files called `peak_locations.txt` and `peak_locations.txt.gz` that can be used as input for the nf-fgwas pipeline:"
   ]
  },
  {
   "cell_type": "code",
   "execution_count": 9,
   "id": "eb4e490d-877e-4467-a860-297413ce9f7a",
   "metadata": {},
   "outputs": [
    {
     "name": "stderr",
     "output_type": "stream",
     "text": [
      "[INFO - export_for_fgwas - 2025-03-06 20:00:37,952]: saved 4025 region locations to 'peak_locations.txt' and 'peak_locations.txt.gz'.\n"
     ]
    }
   ],
   "source": [
    "snp2cell.util.export_for_fgwas(s2c)"
   ]
  },
  {
   "cell_type": "markdown",
   "id": "21691634-0952-4733-b269-be4ec6668d94",
   "metadata": {},
   "source": [
    "## 2) run fGWAS nextflow pipeline on farm"
   ]
  },
  {
   "cell_type": "markdown",
   "id": "25b4ba84-7708-48f3-9a44-345b6799651b",
   "metadata": {},
   "source": [
    "pipeline repository: https://github.com/cellgeni/nf-fgwas"
   ]
  },
  {
   "cell_type": "markdown",
   "id": "3142c4af-4c3d-4e7e-8c41-2341dc4746c9",
   "metadata": {},
   "source": [
    "Then, we need to run the nf-fgwas pipeline. Unlike snp2cell itself, computing the Bayes Factors (BF) is time consuming and it is advised to run the calculations on a compute environment. That said, the pipeline is implemented in `nextflow`, which makes it easy to run in different environments. More instructions and link to download a Docker container can be found on the pipeline [GitHub repository](https://github.com/cellgeni/nf-fgwas)."
   ]
  },
  {
   "cell_type": "markdown",
   "id": "076848a0-5bb3-4279-ba54-a91e9affa764",
   "metadata": {},
   "source": [
    "The pipeline can be executed with a shell script somewhat like this...\n",
    "\n",
    "```bash\n",
    "#!/bin/bash\n",
    "\n",
    "module load cellgen/singularity\n",
    "module load cellgen/nextflow\n",
    "\n",
    "NX_FILE=\"/path/to/nf-gwas/main.nf\"\n",
    "\n",
    "nextflow run $NX_FILE -resume -qs 1000 \\\n",
    "        --enrichment false \\\n",
    "        --window_size 5000 \\\n",
    "        --tss_file peak_locations.txt.gz \\\n",
    "        --cell_types peak_locations.txt \\\n",
    "        --studies summ_stat_paths.txt \\\n",
    "```"
   ]
  },
  {
   "cell_type": "markdown",
   "id": "c960de8a-16a6-40ac-a208-79cf9ff6d1bf",
   "metadata": {},
   "source": [
    "## 3) calculate RBF per location"
   ]
  },
  {
   "cell_type": "markdown",
   "id": "f83b1c6f-a641-4785-8249-b698bf76c11b",
   "metadata": {},
   "source": [
    "Finally we need to load the Bayes Factors computed with the `nf-fgwas` pipeline and compute log(RBF) values as scores."
   ]
  },
  {
   "cell_type": "code",
   "execution_count": 10,
   "id": "6c0a5ed1-8827-41be-8cf7-21e77842fba3",
   "metadata": {},
   "outputs": [
    {
     "name": "stderr",
     "output_type": "stream",
     "text": [
      "[INFO - load_fgwas_scores - 2025-03-06 20:00:37,957]: using 16 cores\n",
      "[INFO - load_fgwas_scores - 2025-03-06 20:00:37,958]: loading fgwas output from 'fgwas/results/LDSC_results/GCST90244098/input.gz'\n",
      "[INFO - load_fgwas_scores - 2025-03-06 20:00:38,656]: loading region locations from 'peak_locations.txt'\n",
      "[INFO - load_fgwas_scores - 2025-03-06 20:00:38,663]: calculating regional Bayes factors\n",
      "Calculating RBFs: 100%|█████████████████████████████████████████████████████████████████████████████████████████████████████████████████████████████████████████████| 3994/3994 [00:01<00:00, 3166.44it/s]\n",
      "[INFO - load_fgwas_scores - 2025-03-06 20:00:41,013]: adding region information to scores\n",
      "[INFO - load_fgwas_scores - 2025-03-06 20:00:41,046]: expanding region locations by -250 and +250 bp and returning 4025 scores\n"
     ]
    }
   ],
   "source": [
    "scores, tbl = snp2cell.util.load_fgwas_scores(\n",
    "    fgwas_output_path = f\"fgwas/results/LDSC_results/{study}/input.gz\",\n",
    "    region_loc_path = \"peak_locations.txt\",\n",
    ")"
   ]
  },
  {
   "cell_type": "code",
   "execution_count": 11,
   "id": "01c018ca-753d-474e-9797-f6fa2467ae18",
   "metadata": {},
   "outputs": [
    {
     "data": {
      "text/html": [
       "<div>\n",
       "<style scoped>\n",
       "    .dataframe tbody tr th:only-of-type {\n",
       "        vertical-align: middle;\n",
       "    }\n",
       "\n",
       "    .dataframe tbody tr th {\n",
       "        vertical-align: top;\n",
       "    }\n",
       "\n",
       "    .dataframe thead th {\n",
       "        text-align: right;\n",
       "    }\n",
       "</style>\n",
       "<table border=\"1\" class=\"dataframe\">\n",
       "  <thead>\n",
       "    <tr style=\"text-align: right;\">\n",
       "      <th></th>\n",
       "      <th>hm_chr</th>\n",
       "      <th>hm_pos</th>\n",
       "      <th>log_RBF</th>\n",
       "      <th>name</th>\n",
       "      <th>ID</th>\n",
       "    </tr>\n",
       "  </thead>\n",
       "  <tbody>\n",
       "    <tr>\n",
       "      <th>1008</th>\n",
       "      <td>4</td>\n",
       "      <td>105896645</td>\n",
       "      <td>344.752034</td>\n",
       "      <td>chr4:105896645-105896645</td>\n",
       "      <td>1008</td>\n",
       "    </tr>\n",
       "    <tr>\n",
       "      <th>1007</th>\n",
       "      <td>4</td>\n",
       "      <td>105896087</td>\n",
       "      <td>344.450245</td>\n",
       "      <td>chr4:105896087-105896087</td>\n",
       "      <td>1007</td>\n",
       "    </tr>\n",
       "    <tr>\n",
       "      <th>1006</th>\n",
       "      <td>4</td>\n",
       "      <td>105895383</td>\n",
       "      <td>344.115852</td>\n",
       "      <td>chr4:105895383-105895383</td>\n",
       "      <td>1006</td>\n",
       "    </tr>\n",
       "    <tr>\n",
       "      <th>1005</th>\n",
       "      <td>4</td>\n",
       "      <td>105894764</td>\n",
       "      <td>343.756361</td>\n",
       "      <td>chr4:105894764-105894764</td>\n",
       "      <td>1005</td>\n",
       "    </tr>\n",
       "    <tr>\n",
       "      <th>1009</th>\n",
       "      <td>4</td>\n",
       "      <td>105902736</td>\n",
       "      <td>343.479973</td>\n",
       "      <td>chr4:105902736-105902736</td>\n",
       "      <td>1009</td>\n",
       "    </tr>\n",
       "  </tbody>\n",
       "</table>\n",
       "</div>"
      ],
      "text/plain": [
       "      hm_chr     hm_pos     log_RBF                      name    ID\n",
       "1008       4  105896645  344.752034  chr4:105896645-105896645  1008\n",
       "1007       4  105896087  344.450245  chr4:105896087-105896087  1007\n",
       "1006       4  105895383  344.115852  chr4:105895383-105895383  1006\n",
       "1005       4  105894764  343.756361  chr4:105894764-105894764  1005\n",
       "1009       4  105902736  343.479973  chr4:105902736-105902736  1009"
      ]
     },
     "execution_count": 11,
     "metadata": {},
     "output_type": "execute_result"
    }
   ],
   "source": [
    "tbl.sort_values('log_RBF', ascending=False).head()"
   ]
  },
  {
   "cell_type": "markdown",
   "id": "78cf174b-efd9-4a5a-a8a4-f3c35d518a5d",
   "metadata": {},
   "source": [
    "## 4) add scores to object"
   ]
  },
  {
   "cell_type": "markdown",
   "id": "9ed054ff-47a2-4728-928d-82834f678636",
   "metadata": {},
   "source": [
    "We then add these GWAS based scores to the `snp2cell` object. \n",
    "\n",
    ">Note that multiple scores (e.g. for different traits) can be added to the same object. Here we will continue with just one score."
   ]
  },
  {
   "cell_type": "code",
   "execution_count": 12,
   "id": "b38297f9-3c7f-4b48-adfe-bcd83f37c2c2",
   "metadata": {
    "scrolled": true
   },
   "outputs": [
    {
     "name": "stderr",
     "output_type": "stream",
     "text": [
      "[INFO - add_score - 2025-03-06 20:00:41,111]: adding score: GCST90244098\n",
      "[INFO - add_score - 2025-03-06 20:00:41,117]: propagating score: GCST90244098\n",
      "[INFO - add_score - 2025-03-06 20:00:41,205]: storing score GCST90244098\n",
      "[INFO - rand_sim - 2025-03-06 20:00:41,208]: create 1000 permutations\n",
      "[INFO - loop_parallel - 2025-03-06 20:00:42,925]: using 16 cores\n",
      "100%|█████████████████████████████████████████████████████████████████████████████████████████████████████████████████████████████████████████████████████████████████| 1000/1000 [00:17<00:00, 56.85it/s]\n",
      "[INFO - add_score_statistics - 2025-03-06 20:01:02,501]: adding statistics\n"
     ]
    }
   ],
   "source": [
    "s2c.add_score(\n",
    "    score_dct = scores,\n",
    "    score_key = study,\n",
    "    num_cores = 16,\n",
    ")"
   ]
  },
  {
   "cell_type": "markdown",
   "id": "cda9a75b-fd0b-4242-817e-a62820327209",
   "metadata": {},
   "source": [
    "We save the progress, so we can continue from there later:"
   ]
  },
  {
   "cell_type": "code",
   "execution_count": 13,
   "id": "47bfbbbe-1580-4b86-80eb-d580d05f92bc",
   "metadata": {},
   "outputs": [
    {
     "name": "stderr",
     "output_type": "stream",
     "text": [
      "[INFO - save_data - 2025-03-06 20:01:03,792]: saved data to: '/lustre/scratch127/cellgen/cellgeni/jp30/snp2cell_test/s2c_GCST90244098.pkl'\n"
     ]
    }
   ],
   "source": [
    "s2c.save_data(s2c_object_path)"
   ]
  },
  {
   "cell_type": "markdown",
   "id": "0553c9ae-7828-4370-94ed-4ea48ecdce44",
   "metadata": {},
   "source": [
    "## 5) add cell-type scores"
   ]
  },
  {
   "cell_type": "markdown",
   "id": "0e8908d2-8b0d-4289-a05d-45a981336c0e",
   "metadata": {},
   "source": [
    "Next, we will add cell type specificity scores based on differential expression (DE) using a single cell data.\n",
    "\n",
    "To load the `snp2cell` object, in case we restarted the notebook, simply run:"
   ]
  },
  {
   "cell_type": "code",
   "execution_count": 14,
   "id": "a9154c03-5bd4-45f9-bb4a-ac7d302bddce",
   "metadata": {},
   "outputs": [],
   "source": [
    "s2c = snp2cell.SNP2CELL(s2c_object_path)"
   ]
  },
  {
   "cell_type": "markdown",
   "id": "3d1844df-bb13-4c6f-9a51-78fa3c7809cb",
   "metadata": {},
   "source": [
    "### load anndata"
   ]
  },
  {
   "cell_type": "markdown",
   "id": "86a92ce2-3b82-4a54-b6d1-e9f37202e97f",
   "metadata": {},
   "source": [
    "We load an AnnData object with the adult lung single cell data. The object contains a cell annotation `broad_annot` and has a matrix with log-normalized counts."
   ]
  },
  {
   "cell_type": "code",
   "execution_count": 15,
   "id": "6ee779c6-3d04-49a1-a9b0-6a1021b09da6",
   "metadata": {},
   "outputs": [],
   "source": [
    "ad = sc.read_h5ad(anndata)"
   ]
  },
  {
   "cell_type": "code",
   "execution_count": 16,
   "id": "466768b2-36e9-4678-920f-70c3c2cb4af0",
   "metadata": {},
   "outputs": [
    {
     "data": {
      "text/plain": [
       "AnnData object with n_obs × n_vars = 5022 × 36601\n",
       "    obs: 'broad_annot'\n",
       "    var: 'gene_ids'\n",
       "    uns: 'log1p'"
      ]
     },
     "execution_count": 16,
     "metadata": {},
     "output_type": "execute_result"
    }
   ],
   "source": [
    "ad"
   ]
  },
  {
   "cell_type": "code",
   "execution_count": 17,
   "id": "2771e1e5-1d3c-4f58-a7f8-7f8761d6d743",
   "metadata": {},
   "outputs": [
    {
     "data": {
      "text/plain": [
       "(0.0, 7.0963807)"
      ]
     },
     "execution_count": 17,
     "metadata": {},
     "output_type": "execute_result"
    }
   ],
   "source": [
    "ad.X.min(), ad.X.max()"
   ]
  },
  {
   "cell_type": "markdown",
   "id": "e39e44d5-309e-4a1f-8722-4a606971beaa",
   "metadata": {},
   "source": [
    "### add anndata to snp2cell object"
   ]
  },
  {
   "cell_type": "markdown",
   "id": "834e541d-2373-4c5b-9d26-8e50683d8f3b",
   "metadata": {},
   "source": [
    "Then we add the AnnData object to snp2cell and calculate DE scores for each cell type. This basically performs DE analysis for each cell type versus all others, and then adds these scores to the object.\n",
    "\n",
    ">Note: if you want to customise score computation more, you can also easily compute DE yourself and then add the scores in a loop using `s2c.add_score()`."
   ]
  },
  {
   "cell_type": "code",
   "execution_count": 18,
   "id": "6c939fcb-31b7-485f-b614-742dbf887d2c",
   "metadata": {},
   "outputs": [],
   "source": [
    "s2c.link_adata(ad)"
   ]
  },
  {
   "cell_type": "code",
   "execution_count": 19,
   "id": "e05c12c4-3d71-4999-b738-4c33560f6770",
   "metadata": {
    "scrolled": true
   },
   "outputs": [
    {
     "name": "stderr",
     "output_type": "stream",
     "text": [
      "[INFO - adata_add_de_scores - 2025-03-06 20:01:04,901]: finding DE genes for annotation broad_annot\n",
      "[INFO - adata_add_de_scores - 2025-03-06 20:01:04,902]: running scanpy rank_genes_groups...\n",
      "/home/ubuntu/mambaforge/envs/snp2cell/lib/python3.11/site-packages/numpy/core/fromnumeric.py:86: FutureWarning: The behavior of DataFrame.sum with axis=None is deprecated, in a future version this will reduce over both axes and return a scalar. To retain the old behavior, pass axis=0 (or do not pass axis)\n",
      "  return reduction(axis=axis, out=out, **passkwargs)\n",
      "[INFO - adata_add_de_scores - 2025-03-06 20:01:22,682]: ranking by upregulation...\n",
      "[INFO - add_score - 2025-03-06 20:01:22,821]: adding score: DE_Chondrocyte__score\n",
      "[INFO - add_score - 2025-03-06 20:01:22,985]: adding score: DE_Alveolar_type_1__score\n",
      "[INFO - add_score - 2025-03-06 20:01:23,145]: adding score: DE_Alveolar_type_2__score\n",
      "[INFO - add_score - 2025-03-06 20:01:23,303]: adding score: DE_Mast__score\n",
      "[INFO - add_score - 2025-03-06 20:01:23,463]: adding score: DE_NK__score\n",
      "[INFO - add_score - 2025-03-06 20:01:23,622]: adding score: DE_Ciliated__score\n",
      "[INFO - add_score - 2025-03-06 20:01:23,782]: adding score: DE_Secretory_club__score\n",
      "[INFO - add_score - 2025-03-06 20:01:23,940]: adding score: DE_SMG_serous__score\n",
      "[INFO - add_score - 2025-03-06 20:01:24,100]: adding score: DE_SMG_mucous__score\n",
      "[INFO - add_score - 2025-03-06 20:01:24,268]: adding score: DE_B__score\n",
      "[INFO - add_score - 2025-03-06 20:01:24,429]: adding score: DE_Endothelia_vascular_art__score\n",
      "[INFO - add_score - 2025-03-06 20:01:24,586]: adding score: DE_B_plasma__score\n",
      "[INFO - add_score - 2025-03-06 20:01:24,746]: adding score: DE_Pericyte__score\n",
      "[INFO - add_score - 2025-03-06 20:01:24,904]: adding score: DE_Fibroblast__score\n",
      "[INFO - add_score - 2025-03-06 20:01:25,064]: adding score: DE_Secretory_goblet__score\n",
      "[INFO - add_score - 2025-03-06 20:01:25,222]: adding score: DE_Basal__score\n",
      "[INFO - add_score - 2025-03-06 20:01:25,380]: adding score: DE_T__score\n",
      "[INFO - add_score - 2025-03-06 20:01:25,538]: adding score: DE_Monocyte__score\n",
      "[INFO - add_score - 2025-03-06 20:01:25,696]: adding score: DE_Smooth_muscle__score\n",
      "[INFO - add_score - 2025-03-06 20:01:25,855]: adding score: DE_Endothelia_vascular_cap__score\n",
      "[INFO - add_score - 2025-03-06 20:01:26,014]: adding score: DE_Endothelia_vascular_ven__score\n",
      "[INFO - add_score - 2025-03-06 20:01:26,171]: adding score: DE_DC__score\n",
      "[INFO - add_score - 2025-03-06 20:01:26,331]: adding score: DE_Macrophage__score\n",
      "[INFO - add_score - 2025-03-06 20:01:26,491]: adding score: DE_Suprabasal__score\n",
      "[INFO - add_score - 2025-03-06 20:01:26,649]: adding score: DE_SMG_duct__score\n",
      "[INFO - add_score - 2025-03-06 20:01:26,806]: adding score: DE_Myoepithelial__score\n",
      "[INFO - add_score - 2025-03-06 20:01:26,964]: adding score: DE_Endocrine__score\n",
      "[WARNING - adata_add_de_scores - 2025-03-06 20:01:27,112]: score for 'Endocrine' ('broad_annot') is all zero, ignoring\n",
      "[INFO - add_score - 2025-03-06 20:01:27,123]: adding score: DE_Schwann__score\n",
      "[INFO - propagate_scores - 2025-03-06 20:01:27,273]: propagating scores\n",
      "[INFO - loop_parallel - 2025-03-06 20:01:27,274]: using 16 cores\n",
      "100%|██████████████████████████████████████████████████████████████████████████████████████████████████████████████████████████████████████████████████████████████████| 27/27 [00:00<00:00, 18513.36it/s]\n",
      "[INFO - rand_sim - 2025-03-06 20:01:35,711]: create 1000 permutations\n",
      "[INFO - loop_parallel - 2025-03-06 20:01:37,375]: using 16 cores\n",
      "100%|█████████████████████████████████████████████████████████████████████████████████████████████████████████████████████████████████████████████████████████████████| 1000/1000 [04:11<00:00,  3.98it/s]\n",
      "[INFO - add_score_statistics - 2025-03-06 20:06:01,214]: adding statistics\n"
     ]
    }
   ],
   "source": [
    "s2c.adata_add_de_scores(\n",
    "    groupby = \"broad_annot\",\n",
    ")"
   ]
  },
  {
   "cell_type": "markdown",
   "id": "4e9b4776-4e76-44c1-af6d-2989833b5d89",
   "metadata": {},
   "source": [
    "If the AnnData object is very large, it can be good to remove it from the `snp2cell` object to keep the object smaller, by setting the corresponding attribute to None:"
   ]
  },
  {
   "cell_type": "code",
   "execution_count": 20,
   "id": "6c684496-bf76-4fda-b4fb-30ab27d1383f",
   "metadata": {},
   "outputs": [],
   "source": [
    "s2c.adata = None"
   ]
  },
  {
   "cell_type": "markdown",
   "id": "ea2a0a73-e193-46cf-a09c-7a98fd475314",
   "metadata": {},
   "source": [
    "### combine expression and GWAS scores"
   ]
  },
  {
   "cell_type": "markdown",
   "id": "63483109-e0ca-497a-a31c-69f2dfa92f06",
   "metadata": {},
   "source": [
    "We then compute overlap scores by combining the GWAS based score with each DE score.\n",
    "\n",
    ">Note: If you want to add and combine scores manually, you can also use the `s2c.combine_scores()` method. The `s2c.combine_scores_rand()` method can then be used to add statitics to the object based on propagating random permutations. The adata* methods we use here do all of that automatically."
   ]
  },
  {
   "cell_type": "code",
   "execution_count": 21,
   "id": "277bf2f6-7f86-49b4-9af6-6c5f1f5ff48c",
   "metadata": {},
   "outputs": [
    {
     "data": {
      "text/plain": [
       "GRN: DiGraph with 5000 nodes and 17797 edges\n",
       "original scores: (5000, 29)\n",
       "propagated scores: (5000, 140)\n",
       "score perturbations for: ['GCST90244098', 'DE_broad_annot__score']\n",
       "adata: None"
      ]
     },
     "execution_count": 21,
     "metadata": {},
     "output_type": "execute_result"
    }
   ],
   "source": [
    "s2c"
   ]
  },
  {
   "cell_type": "code",
   "execution_count": 22,
   "id": "107eb785-e9cb-4e10-a71d-55e1caf504a2",
   "metadata": {
    "scrolled": true
   },
   "outputs": [
    {
     "name": "stderr",
     "output_type": "stream",
     "text": [
      "[INFO - combine_scores - 2025-03-06 20:06:18,895]: combining scores\n",
      "[INFO - combine_scores_rand - 2025-03-06 20:06:18,910]: combining scores\n",
      "[INFO - add_score_statistics - 2025-03-06 20:06:19,039]: adding statistics\n"
     ]
    }
   ],
   "source": [
    "s2c.adata_combine_de_scores(\n",
    "    group_key = \"broad_annot\",\n",
    "    score_key = study,\n",
    "    suffix = \"__zscore_mad\",\n",
    ")"
   ]
  },
  {
   "cell_type": "code",
   "execution_count": 23,
   "id": "89b9fd5a-002b-47fc-9cbc-203da1ae68b6",
   "metadata": {},
   "outputs": [
    {
     "name": "stderr",
     "output_type": "stream",
     "text": [
      "[INFO - save_data - 2025-03-06 20:06:36,190]: saved data to: '/lustre/scratch127/cellgen/cellgeni/jp30/snp2cell_test/s2c_GCST90244098.pkl'\n"
     ]
    }
   ],
   "source": [
    "s2c.save_data(s2c_object_path)"
   ]
  },
  {
   "cell_type": "markdown",
   "id": "3dfb7f5a-f422-49e6-adf9-12147455d5dc",
   "metadata": {},
   "source": [
    "## 6) explore"
   ]
  },
  {
   "cell_type": "markdown",
   "id": "7693bc87-8cf7-4229-87b5-1cadba2a9d98",
   "metadata": {},
   "source": [
    "Finally, we can look at the scores. To get all scores you can use the method `s2c.get_scores()`. This returns a pandas DataFrame which can easily be processed further.\n",
    "\n",
    "Overall, the DataFrame contains different scores:\n",
    "  - the GWAS based score `GCST90244098`\n",
    "  - cell type scores `DE_*__score`\n",
    "  - overlap scores `min(GCST90244098,DE_*__score)`\n",
    "  - and statistics and normalizations computed for each score\n",
    "\n",
    "You can use pandas to filter the scores and genes you need. In addition, the `s2c.get_scores()` method provides several parameters to do the filtering. For example, the following selects all genes `~index.str.startswith('chr')` (regions start with \"chr\") and sorts them by the robust z-score (`GCST90244098__zscore_mad`), which measures the score relative to the median expected by random."
   ]
  },
  {
   "cell_type": "code",
   "execution_count": 24,
   "id": "d7e5e7ae-e6a4-4faa-87d4-429ec535228f",
   "metadata": {},
   "outputs": [
    {
     "data": {
      "text/html": [
       "<div>\n",
       "<style scoped>\n",
       "    .dataframe tbody tr th:only-of-type {\n",
       "        vertical-align: middle;\n",
       "    }\n",
       "\n",
       "    .dataframe tbody tr th {\n",
       "        vertical-align: top;\n",
       "    }\n",
       "\n",
       "    .dataframe thead th {\n",
       "        text-align: right;\n",
       "    }\n",
       "</style>\n",
       "<table border=\"1\" class=\"dataframe\">\n",
       "  <thead>\n",
       "    <tr style=\"text-align: right;\">\n",
       "      <th></th>\n",
       "      <th>GCST90244098</th>\n",
       "      <th>GCST90244098__pval</th>\n",
       "      <th>GCST90244098__FDR</th>\n",
       "      <th>GCST90244098__zscore</th>\n",
       "      <th>GCST90244098__zscore_mad</th>\n",
       "      <th>DE_Monocyte__score</th>\n",
       "      <th>DE_Smooth_muscle__score</th>\n",
       "      <th>DE_SMG_mucous__score</th>\n",
       "      <th>DE_Mast__score</th>\n",
       "      <th>DE_T__score</th>\n",
       "      <th>...</th>\n",
       "      <th>min(DE_SMG_duct__score__zscore_mad,GCST90244098__zscore_mad)__zscore</th>\n",
       "      <th>min(DE_SMG_duct__score__zscore_mad,GCST90244098__zscore_mad)__zscore_mad</th>\n",
       "      <th>min(DE_Myoepithelial__score__zscore_mad,GCST90244098__zscore_mad)__pval</th>\n",
       "      <th>min(DE_Myoepithelial__score__zscore_mad,GCST90244098__zscore_mad)__FDR</th>\n",
       "      <th>min(DE_Myoepithelial__score__zscore_mad,GCST90244098__zscore_mad)__zscore</th>\n",
       "      <th>min(DE_Myoepithelial__score__zscore_mad,GCST90244098__zscore_mad)__zscore_mad</th>\n",
       "      <th>min(DE_Schwann__score__zscore_mad,GCST90244098__zscore_mad)__pval</th>\n",
       "      <th>min(DE_Schwann__score__zscore_mad,GCST90244098__zscore_mad)__FDR</th>\n",
       "      <th>min(DE_Schwann__score__zscore_mad,GCST90244098__zscore_mad)__zscore</th>\n",
       "      <th>min(DE_Schwann__score__zscore_mad,GCST90244098__zscore_mad)__zscore_mad</th>\n",
       "    </tr>\n",
       "  </thead>\n",
       "  <tbody>\n",
       "    <tr>\n",
       "      <th>NPNT</th>\n",
       "      <td>0.002575</td>\n",
       "      <td>0.000</td>\n",
       "      <td>0.000000</td>\n",
       "      <td>22.648034</td>\n",
       "      <td>39.995484</td>\n",
       "      <td>0.000045</td>\n",
       "      <td>0.010509</td>\n",
       "      <td>0.000535</td>\n",
       "      <td>0.000053</td>\n",
       "      <td>0.000050</td>\n",
       "      <td>...</td>\n",
       "      <td>84706.341500</td>\n",
       "      <td>183754.890649</td>\n",
       "      <td>0.0</td>\n",
       "      <td>0.0</td>\n",
       "      <td>779308.922293</td>\n",
       "      <td>1.690563e+06</td>\n",
       "      <td>0.0</td>\n",
       "      <td>0.0</td>\n",
       "      <td>28439.051217</td>\n",
       "      <td>61693.741209</td>\n",
       "    </tr>\n",
       "    <tr>\n",
       "      <th>INTS12</th>\n",
       "      <td>0.003234</td>\n",
       "      <td>0.000</td>\n",
       "      <td>0.000000</td>\n",
       "      <td>21.232612</td>\n",
       "      <td>37.657923</td>\n",
       "      <td>0.000093</td>\n",
       "      <td>0.002981</td>\n",
       "      <td>0.002305</td>\n",
       "      <td>0.000117</td>\n",
       "      <td>0.000105</td>\n",
       "      <td>...</td>\n",
       "      <td>62977.635508</td>\n",
       "      <td>95979.643838</td>\n",
       "      <td>0.0</td>\n",
       "      <td>0.0</td>\n",
       "      <td>427387.487036</td>\n",
       "      <td>6.513480e+05</td>\n",
       "      <td>0.0</td>\n",
       "      <td>0.0</td>\n",
       "      <td>16765.901983</td>\n",
       "      <td>25551.984606</td>\n",
       "    </tr>\n",
       "    <tr>\n",
       "      <th>GSTCD</th>\n",
       "      <td>0.001909</td>\n",
       "      <td>0.000</td>\n",
       "      <td>0.000000</td>\n",
       "      <td>15.592220</td>\n",
       "      <td>29.974656</td>\n",
       "      <td>0.000078</td>\n",
       "      <td>0.001806</td>\n",
       "      <td>0.001552</td>\n",
       "      <td>0.000097</td>\n",
       "      <td>0.000088</td>\n",
       "      <td>...</td>\n",
       "      <td>83230.231619</td>\n",
       "      <td>148980.307739</td>\n",
       "      <td>0.0</td>\n",
       "      <td>0.0</td>\n",
       "      <td>445714.781205</td>\n",
       "      <td>7.978179e+05</td>\n",
       "      <td>0.0</td>\n",
       "      <td>0.0</td>\n",
       "      <td>10960.150931</td>\n",
       "      <td>19618.815406</td>\n",
       "    </tr>\n",
       "    <tr>\n",
       "      <th>VTA1</th>\n",
       "      <td>0.001118</td>\n",
       "      <td>0.000</td>\n",
       "      <td>0.000000</td>\n",
       "      <td>10.003151</td>\n",
       "      <td>18.484446</td>\n",
       "      <td>0.000034</td>\n",
       "      <td>0.000022</td>\n",
       "      <td>0.000024</td>\n",
       "      <td>0.000041</td>\n",
       "      <td>0.000038</td>\n",
       "      <td>...</td>\n",
       "      <td>-39699.776479</td>\n",
       "      <td>-181602.422718</td>\n",
       "      <td>1.0</td>\n",
       "      <td>1.0</td>\n",
       "      <td>-39754.282602</td>\n",
       "      <td>-1.818518e+05</td>\n",
       "      <td>1.0</td>\n",
       "      <td>1.0</td>\n",
       "      <td>-106698.599839</td>\n",
       "      <td>-488082.469499</td>\n",
       "    </tr>\n",
       "    <tr>\n",
       "      <th>ADGRG6</th>\n",
       "      <td>0.001118</td>\n",
       "      <td>0.001</td>\n",
       "      <td>0.263158</td>\n",
       "      <td>8.688351</td>\n",
       "      <td>17.892195</td>\n",
       "      <td>0.000034</td>\n",
       "      <td>0.000022</td>\n",
       "      <td>0.000024</td>\n",
       "      <td>0.000041</td>\n",
       "      <td>0.000038</td>\n",
       "      <td>...</td>\n",
       "      <td>-23027.950117</td>\n",
       "      <td>-181602.422718</td>\n",
       "      <td>1.0</td>\n",
       "      <td>1.0</td>\n",
       "      <td>-23059.566491</td>\n",
       "      <td>-1.818518e+05</td>\n",
       "      <td>1.0</td>\n",
       "      <td>1.0</td>\n",
       "      <td>-61890.737078</td>\n",
       "      <td>-488082.469499</td>\n",
       "    </tr>\n",
       "  </tbody>\n",
       "</table>\n",
       "<p>5 rows × 275 columns</p>\n",
       "</div>"
      ],
      "text/plain": [
       "        GCST90244098  GCST90244098__pval  GCST90244098__FDR  \\\n",
       "NPNT        0.002575               0.000           0.000000   \n",
       "INTS12      0.003234               0.000           0.000000   \n",
       "GSTCD       0.001909               0.000           0.000000   \n",
       "VTA1        0.001118               0.000           0.000000   \n",
       "ADGRG6      0.001118               0.001           0.263158   \n",
       "\n",
       "        GCST90244098__zscore  GCST90244098__zscore_mad  DE_Monocyte__score  \\\n",
       "NPNT               22.648034                 39.995484            0.000045   \n",
       "INTS12             21.232612                 37.657923            0.000093   \n",
       "GSTCD              15.592220                 29.974656            0.000078   \n",
       "VTA1               10.003151                 18.484446            0.000034   \n",
       "ADGRG6              8.688351                 17.892195            0.000034   \n",
       "\n",
       "        DE_Smooth_muscle__score  DE_SMG_mucous__score  DE_Mast__score  \\\n",
       "NPNT                   0.010509              0.000535        0.000053   \n",
       "INTS12                 0.002981              0.002305        0.000117   \n",
       "GSTCD                  0.001806              0.001552        0.000097   \n",
       "VTA1                   0.000022              0.000024        0.000041   \n",
       "ADGRG6                 0.000022              0.000024        0.000041   \n",
       "\n",
       "        DE_T__score  ...  \\\n",
       "NPNT       0.000050  ...   \n",
       "INTS12     0.000105  ...   \n",
       "GSTCD      0.000088  ...   \n",
       "VTA1       0.000038  ...   \n",
       "ADGRG6     0.000038  ...   \n",
       "\n",
       "        min(DE_SMG_duct__score__zscore_mad,GCST90244098__zscore_mad)__zscore  \\\n",
       "NPNT                                         84706.341500                      \n",
       "INTS12                                       62977.635508                      \n",
       "GSTCD                                        83230.231619                      \n",
       "VTA1                                        -39699.776479                      \n",
       "ADGRG6                                      -23027.950117                      \n",
       "\n",
       "        min(DE_SMG_duct__score__zscore_mad,GCST90244098__zscore_mad)__zscore_mad  \\\n",
       "NPNT                                        183754.890649                          \n",
       "INTS12                                       95979.643838                          \n",
       "GSTCD                                       148980.307739                          \n",
       "VTA1                                       -181602.422718                          \n",
       "ADGRG6                                     -181602.422718                          \n",
       "\n",
       "        min(DE_Myoepithelial__score__zscore_mad,GCST90244098__zscore_mad)__pval  \\\n",
       "NPNT                                                  0.0                         \n",
       "INTS12                                                0.0                         \n",
       "GSTCD                                                 0.0                         \n",
       "VTA1                                                  1.0                         \n",
       "ADGRG6                                                1.0                         \n",
       "\n",
       "        min(DE_Myoepithelial__score__zscore_mad,GCST90244098__zscore_mad)__FDR  \\\n",
       "NPNT                                                  0.0                        \n",
       "INTS12                                                0.0                        \n",
       "GSTCD                                                 0.0                        \n",
       "VTA1                                                  1.0                        \n",
       "ADGRG6                                                1.0                        \n",
       "\n",
       "        min(DE_Myoepithelial__score__zscore_mad,GCST90244098__zscore_mad)__zscore  \\\n",
       "NPNT                                        779308.922293                           \n",
       "INTS12                                      427387.487036                           \n",
       "GSTCD                                       445714.781205                           \n",
       "VTA1                                        -39754.282602                           \n",
       "ADGRG6                                      -23059.566491                           \n",
       "\n",
       "        min(DE_Myoepithelial__score__zscore_mad,GCST90244098__zscore_mad)__zscore_mad  \\\n",
       "NPNT                                         1.690563e+06                               \n",
       "INTS12                                       6.513480e+05                               \n",
       "GSTCD                                        7.978179e+05                               \n",
       "VTA1                                        -1.818518e+05                               \n",
       "ADGRG6                                      -1.818518e+05                               \n",
       "\n",
       "        min(DE_Schwann__score__zscore_mad,GCST90244098__zscore_mad)__pval  \\\n",
       "NPNT                                                  0.0                   \n",
       "INTS12                                                0.0                   \n",
       "GSTCD                                                 0.0                   \n",
       "VTA1                                                  1.0                   \n",
       "ADGRG6                                                1.0                   \n",
       "\n",
       "        min(DE_Schwann__score__zscore_mad,GCST90244098__zscore_mad)__FDR  \\\n",
       "NPNT                                                  0.0                  \n",
       "INTS12                                                0.0                  \n",
       "GSTCD                                                 0.0                  \n",
       "VTA1                                                  1.0                  \n",
       "ADGRG6                                                1.0                  \n",
       "\n",
       "        min(DE_Schwann__score__zscore_mad,GCST90244098__zscore_mad)__zscore  \\\n",
       "NPNT                                         28439.051217                     \n",
       "INTS12                                       16765.901983                     \n",
       "GSTCD                                        10960.150931                     \n",
       "VTA1                                       -106698.599839                     \n",
       "ADGRG6                                      -61890.737078                     \n",
       "\n",
       "        min(DE_Schwann__score__zscore_mad,GCST90244098__zscore_mad)__zscore_mad  \n",
       "NPNT                                         61693.741209                        \n",
       "INTS12                                       25551.984606                        \n",
       "GSTCD                                        19618.815406                        \n",
       "VTA1                                       -488082.469499                        \n",
       "ADGRG6                                     -488082.469499                        \n",
       "\n",
       "[5 rows x 275 columns]"
      ]
     },
     "execution_count": 24,
     "metadata": {},
     "output_type": "execute_result"
    }
   ],
   "source": [
    "genes_sorted = s2c.get_scores(sort_key=f'{study}__zscore_mad', query=\"~index.str.startswith('chr')\")\n",
    "genes_sorted.head()"
   ]
  },
  {
   "cell_type": "markdown",
   "id": "d4efd332-e3c3-48aa-8a06-261519d6ed32",
   "metadata": {},
   "source": [
    "print top 50 genes"
   ]
  },
  {
   "cell_type": "code",
   "execution_count": 25,
   "id": "90df1b0a-04d0-4692-88d0-7067757eea0a",
   "metadata": {},
   "outputs": [
    {
     "data": {
      "text/plain": [
       "'NPNT INTS12 GSTCD VTA1 ADGRG6 HHIP ARHGEF38 PPA2 BCAR1 NUDT5 CFDP1 SESN1 BTN3A3 CDC123 SEC61A2 DHTKD1 TET2 ARMC2 MMP15 ADAM19 CAMK1D ADAMTSL3 BTN3A2 BTN3A1 HIST1H1D ARHGEF17 ARHGAP27 BTN2A1 ZKSCAN8 PLEKHM1 RPL23 HMGN4 HIST1H3D TSHZ3 RELT ZSCAN31 FAM13A NPM1 MTMR3 ZNRF1 BTN2A2 DENND6A SSH2 THSD4 HIST1H2BG DMPK TIGD2 HIST1H2AE CSNK2A2 DMWD'"
      ]
     },
     "execution_count": 25,
     "metadata": {},
     "output_type": "execute_result"
    }
   ],
   "source": [
    "' '.join(genes_sorted[:50].index.tolist())"
   ]
  },
  {
   "cell_type": "markdown",
   "id": "ba614339-db1f-4e0b-89f3-da64bf34a18e",
   "metadata": {},
   "source": [
    "specific genes"
   ]
  },
  {
   "cell_type": "markdown",
   "id": "011f150d-393c-4703-9f86-c20fabf8cc23",
   "metadata": {},
   "source": [
    "## 7) plot network"
   ]
  },
  {
   "cell_type": "markdown",
   "id": "5ce15e7f-ac51-482a-842f-8bd4ec2f6839",
   "metadata": {},
   "source": [
    "`s2c.plot_network()` plots a GRN centered around a selected gene. Neighboring genes are added to the plot in either up- or downstream direction, i.e. showing regulators or regulated genes. The color indicates the GWAS association score for genes and regions. Note, that the scores for regions are usually higher as we mapped the GWAS scores to regions first and then propagated them to genes and TFs."
   ]
  },
  {
   "cell_type": "code",
   "execution_count": 26,
   "id": "55c7a7b3-4a79-4db5-9cb7-603cbde62cb0",
   "metadata": {},
   "outputs": [
    {
     "data": {
      "image/png": "[encoded data removed]",
      "text/plain": [
       "<Figure size 640x480 with 3 Axes>"
      ]
     },
     "metadata": {},
     "output_type": "display_data"
    }
   ],
   "source": [
    "s2c.plot_network(score = \"GCST90244098__zscore_mad\", gene = \"HHIP\")"
   ]
  },
  {
   "cell_type": "markdown",
   "id": "644764b7-0748-43ea-bd94-c86e582fa7c7",
   "metadata": {},
   "source": [
    "## 8) Per cell type plots"
   ]
  },
  {
   "cell_type": "markdown",
   "id": "08503203-6b78-44c9-a0b0-42452b23001d",
   "metadata": {},
   "source": [
    "`s2c.plot_group_heatmap()` can be used to plot a \"cell type x gene\" heatmap, to show the scores of multiple individual nodes (i.e. genes, TFs and regions) and in which cell types they might have a stronger effect.\n",
    "\n",
    "There are two ways to select values to plot:\n",
    "  - use `s2c.get_scores()`, filter the data frame and pass the dataframe to `s2c.plot_group_heatmap(plt_df=plt_df)`\n",
    "  - supply arguments to `s2c.plot_group_heatmap(score_key=study, query=...)` to do filtering and plotting in one step\n",
    "\n",
    ">Note: The names of overlap scores (e.g. `min(GCST90244098__zscore_mad,DE_Ciliated__score__zscore_mad)__zscore_mad`) can be quite long. They can be renamed to just the cell type names using `plt_df.rename(columns=s2c.rename_column)` or by passing `row_pattern` to `s2c.plot_group_heatmap()` for extracting the cell type names."
   ]
  },
  {
   "cell_type": "code",
   "execution_count": 27,
   "id": "617a1aac-0898-4e8c-bb9d-533b6eb86457",
   "metadata": {},
   "outputs": [],
   "source": [
    "plt_df = s2c.get_scores(\n",
    "    query=f\"~index.str.startswith('chr') and {study}__pval < 0.05\",\n",
    "    regex=f\"^min.*{study}.*zscore_mad$\",\n",
    ")\n",
    "plt_df = plt_df.rename(columns=s2c.rename_column)"
   ]
  },
  {
   "cell_type": "code",
   "execution_count": 28,
   "id": "e449164d-3b33-4aec-b463-c5d224fee66e",
   "metadata": {},
   "outputs": [
    {
     "data": {
      "text/html": [
       "<div>\n",
       "<style scoped>\n",
       "    .dataframe tbody tr th:only-of-type {\n",
       "        vertical-align: middle;\n",
       "    }\n",
       "\n",
       "    .dataframe tbody tr th {\n",
       "        vertical-align: top;\n",
       "    }\n",
       "\n",
       "    .dataframe thead th {\n",
       "        text-align: right;\n",
       "    }\n",
       "</style>\n",
       "<table border=\"1\" class=\"dataframe\">\n",
       "  <thead>\n",
       "    <tr style=\"text-align: right;\">\n",
       "      <th></th>\n",
       "      <th>Chondrocyte</th>\n",
       "      <th>Alveolar_type_1</th>\n",
       "      <th>Alveolar_type_2</th>\n",
       "      <th>Mast</th>\n",
       "      <th>NK</th>\n",
       "      <th>Ciliated</th>\n",
       "      <th>Secretory_club</th>\n",
       "      <th>SMG_serous</th>\n",
       "      <th>SMG_mucous</th>\n",
       "      <th>B</th>\n",
       "      <th>...</th>\n",
       "      <th>Monocyte</th>\n",
       "      <th>Smooth_muscle</th>\n",
       "      <th>Endothelia_vascular_cap</th>\n",
       "      <th>Endothelia_vascular_ven</th>\n",
       "      <th>DC</th>\n",
       "      <th>Macrophage</th>\n",
       "      <th>Suprabasal</th>\n",
       "      <th>SMG_duct</th>\n",
       "      <th>Myoepithelial</th>\n",
       "      <th>Schwann</th>\n",
       "    </tr>\n",
       "  </thead>\n",
       "  <tbody>\n",
       "    <tr>\n",
       "      <th>ADAM19</th>\n",
       "      <td>-13718.621049</td>\n",
       "      <td>-8.075015e+04</td>\n",
       "      <td>-1.182710e+05</td>\n",
       "      <td>17580.098576</td>\n",
       "      <td>256949.108030</td>\n",
       "      <td>-125661.828579</td>\n",
       "      <td>-7.167093e+04</td>\n",
       "      <td>-89733.017302</td>\n",
       "      <td>-61457.062609</td>\n",
       "      <td>256949.108030</td>\n",
       "      <td>...</td>\n",
       "      <td>-29237.488796</td>\n",
       "      <td>2.569491e+05</td>\n",
       "      <td>30790.269895</td>\n",
       "      <td>90715.413371</td>\n",
       "      <td>256949.108030</td>\n",
       "      <td>90924.200735</td>\n",
       "      <td>41617.867223</td>\n",
       "      <td>48594.216796</td>\n",
       "      <td>-1.415239e+04</td>\n",
       "      <td>-24843.150692</td>\n",
       "    </tr>\n",
       "    <tr>\n",
       "      <th>NPNT</th>\n",
       "      <td>-25653.288420</td>\n",
       "      <td>1.690563e+06</td>\n",
       "      <td>1.690563e+06</td>\n",
       "      <td>-36389.339925</td>\n",
       "      <td>-49731.606191</td>\n",
       "      <td>55684.880907</td>\n",
       "      <td>1.690563e+06</td>\n",
       "      <td>198948.810732</td>\n",
       "      <td>823548.124093</td>\n",
       "      <td>-19007.358001</td>\n",
       "      <td>...</td>\n",
       "      <td>-50490.048110</td>\n",
       "      <td>1.690563e+06</td>\n",
       "      <td>-11510.938723</td>\n",
       "      <td>-849.863770</td>\n",
       "      <td>-44179.386752</td>\n",
       "      <td>-45958.955156</td>\n",
       "      <td>99601.379622</td>\n",
       "      <td>183754.890649</td>\n",
       "      <td>1.690563e+06</td>\n",
       "      <td>61693.741209</td>\n",
       "    </tr>\n",
       "    <tr>\n",
       "      <th>CFDP1</th>\n",
       "      <td>-23286.738985</td>\n",
       "      <td>-1.602073e+04</td>\n",
       "      <td>-3.766985e+04</td>\n",
       "      <td>315748.533197</td>\n",
       "      <td>-29582.523036</td>\n",
       "      <td>315748.533197</td>\n",
       "      <td>5.986624e+04</td>\n",
       "      <td>-7922.094035</td>\n",
       "      <td>8405.225780</td>\n",
       "      <td>-38237.704699</td>\n",
       "      <td>...</td>\n",
       "      <td>-49960.888912</td>\n",
       "      <td>1.349372e+04</td>\n",
       "      <td>-18137.942556</td>\n",
       "      <td>-306.711303</td>\n",
       "      <td>-47388.745833</td>\n",
       "      <td>-16620.761339</td>\n",
       "      <td>88702.013903</td>\n",
       "      <td>13793.773413</td>\n",
       "      <td>1.606054e+04</td>\n",
       "      <td>54279.474296</td>\n",
       "    </tr>\n",
       "    <tr>\n",
       "      <th>HHIP</th>\n",
       "      <td>111690.455153</td>\n",
       "      <td>7.752383e+04</td>\n",
       "      <td>9.405278e+05</td>\n",
       "      <td>-41770.927828</td>\n",
       "      <td>-42545.906576</td>\n",
       "      <td>-42375.725965</td>\n",
       "      <td>9.289142e+04</td>\n",
       "      <td>-39818.437785</td>\n",
       "      <td>-10112.339331</td>\n",
       "      <td>-31060.782715</td>\n",
       "      <td>...</td>\n",
       "      <td>-20332.007501</td>\n",
       "      <td>-3.986833e+04</td>\n",
       "      <td>-9905.728808</td>\n",
       "      <td>-17631.463017</td>\n",
       "      <td>-30318.669619</td>\n",
       "      <td>-25404.400242</td>\n",
       "      <td>65331.763306</td>\n",
       "      <td>-34716.454456</td>\n",
       "      <td>9.919649e+04</td>\n",
       "      <td>-80500.680002</td>\n",
       "    </tr>\n",
       "    <tr>\n",
       "      <th>BCAR1</th>\n",
       "      <td>31635.055590</td>\n",
       "      <td>4.900469e+03</td>\n",
       "      <td>-4.910276e+04</td>\n",
       "      <td>550503.963449</td>\n",
       "      <td>6387.069143</td>\n",
       "      <td>550503.963449</td>\n",
       "      <td>2.352809e+05</td>\n",
       "      <td>-43443.474374</td>\n",
       "      <td>-12180.220255</td>\n",
       "      <td>-34311.343120</td>\n",
       "      <td>...</td>\n",
       "      <td>-59974.640791</td>\n",
       "      <td>6.522172e+04</td>\n",
       "      <td>19267.510216</td>\n",
       "      <td>50083.598099</td>\n",
       "      <td>-46292.728928</td>\n",
       "      <td>-3526.788475</td>\n",
       "      <td>40529.782685</td>\n",
       "      <td>-9202.825847</td>\n",
       "      <td>3.274791e+04</td>\n",
       "      <td>-28160.854354</td>\n",
       "    </tr>\n",
       "  </tbody>\n",
       "</table>\n",
       "<p>5 rows × 27 columns</p>\n",
       "</div>"
      ],
      "text/plain": [
       "          Chondrocyte  Alveolar_type_1  Alveolar_type_2           Mast  \\\n",
       "ADAM19  -13718.621049    -8.075015e+04    -1.182710e+05   17580.098576   \n",
       "NPNT    -25653.288420     1.690563e+06     1.690563e+06  -36389.339925   \n",
       "CFDP1   -23286.738985    -1.602073e+04    -3.766985e+04  315748.533197   \n",
       "HHIP    111690.455153     7.752383e+04     9.405278e+05  -41770.927828   \n",
       "BCAR1    31635.055590     4.900469e+03    -4.910276e+04  550503.963449   \n",
       "\n",
       "                   NK       Ciliated  Secretory_club     SMG_serous  \\\n",
       "ADAM19  256949.108030 -125661.828579   -7.167093e+04  -89733.017302   \n",
       "NPNT    -49731.606191   55684.880907    1.690563e+06  198948.810732   \n",
       "CFDP1   -29582.523036  315748.533197    5.986624e+04   -7922.094035   \n",
       "HHIP    -42545.906576  -42375.725965    9.289142e+04  -39818.437785   \n",
       "BCAR1     6387.069143  550503.963449    2.352809e+05  -43443.474374   \n",
       "\n",
       "           SMG_mucous              B  ...      Monocyte  Smooth_muscle  \\\n",
       "ADAM19  -61457.062609  256949.108030  ... -29237.488796   2.569491e+05   \n",
       "NPNT    823548.124093  -19007.358001  ... -50490.048110   1.690563e+06   \n",
       "CFDP1     8405.225780  -38237.704699  ... -49960.888912   1.349372e+04   \n",
       "HHIP    -10112.339331  -31060.782715  ... -20332.007501  -3.986833e+04   \n",
       "BCAR1   -12180.220255  -34311.343120  ... -59974.640791   6.522172e+04   \n",
       "\n",
       "        Endothelia_vascular_cap  Endothelia_vascular_ven             DC  \\\n",
       "ADAM19             30790.269895             90715.413371  256949.108030   \n",
       "NPNT              -11510.938723              -849.863770  -44179.386752   \n",
       "CFDP1             -18137.942556              -306.711303  -47388.745833   \n",
       "HHIP               -9905.728808            -17631.463017  -30318.669619   \n",
       "BCAR1              19267.510216             50083.598099  -46292.728928   \n",
       "\n",
       "          Macrophage    Suprabasal       SMG_duct  Myoepithelial       Schwann  \n",
       "ADAM19  90924.200735  41617.867223   48594.216796  -1.415239e+04 -24843.150692  \n",
       "NPNT   -45958.955156  99601.379622  183754.890649   1.690563e+06  61693.741209  \n",
       "CFDP1  -16620.761339  88702.013903   13793.773413   1.606054e+04  54279.474296  \n",
       "HHIP   -25404.400242  65331.763306  -34716.454456   9.919649e+04 -80500.680002  \n",
       "BCAR1   -3526.788475  40529.782685   -9202.825847   3.274791e+04 -28160.854354  \n",
       "\n",
       "[5 rows x 27 columns]"
      ]
     },
     "execution_count": 28,
     "metadata": {},
     "output_type": "execute_result"
    }
   ],
   "source": [
    "plt_df.head()"
   ]
  },
  {
   "cell_type": "markdown",
   "id": "9dd5176c-98bd-4182-b218-53c9708a1696",
   "metadata": {},
   "source": [
    "`n_col` sets the number of cell types to show (ordered by mean score) and `genes_per_score` sets how many genes with largest score to select per cell type. If outliers make it difficult to see finer patterns, `transform=` can be used."
   ]
  },
  {
   "cell_type": "code",
   "execution_count": 29,
   "id": "029e2004-b3bd-4ffc-8e53-817abbb0f5cb",
   "metadata": {},
   "outputs": [
    {
     "data": {
      "image/png": "[encoded data removed]",
      "text/plain": [
       "<Figure size 800x800 with 4 Axes>"
      ]
     },
     "metadata": {},
     "output_type": "display_data"
    }
   ],
   "source": [
    "s2c.plot_group_heatmap(\n",
    "    plt_df=plt_df,\n",
    "    row_pattern=None,\n",
    "    # score_key=study,\n",
    "    # query=f\"~index.str.startswith('chr') and {study}__pval < 0.05\",\n",
    "    n_col=30,\n",
    "    genes_per_score=5,\n",
    "    transform=(\"asinh\",0.01),\n",
    "    figsize=(8,8),\n",
    "    dendrogram_ratio=(0.2,0.2),\n",
    ")"
   ]
  },
  {
   "cell_type": "markdown",
   "id": "2752809d-7884-446c-a134-826137ea8453",
   "metadata": {},
   "source": [
    "We can also summarise all scores per cell type to rank the cell types. The `s2c.plot_group_summary()` works similarly to `s2c.plot_group_heatmap()` regarding score filtering. Here, we do filtering and plotting in just one command:"
   ]
  },
  {
   "cell_type": "code",
   "execution_count": 30,
   "id": "a5e68419-da1d-476c-9d47-495ad43e2a9d",
   "metadata": {},
   "outputs": [
    {
     "data": {
      "text/plain": [
       "(<Figure size 1000x500 with 1 Axes>, <Axes: >)"
      ]
     },
     "execution_count": 30,
     "metadata": {},
     "output_type": "execute_result"
    },
    {
     "data": {
      "image/png": "[encoded data removed]",
      "text/plain": [
       "<Figure size 1000x500 with 1 Axes>"
      ]
     },
     "metadata": {},
     "output_type": "display_data"
    }
   ],
   "source": [
    "s2c.plot_group_summary(\n",
    "    score_key=study,\n",
    "    regex=f\"^min.*{study}.*zscore_mad$\",\n",
    "    query=f\"{study}__zscore_mad > 10\",\n",
    "    errorbar=\"ci\",\n",
    "    topn=30,\n",
    "    figsize=(10,5),\n",
    ")"
   ]
  },
  {
   "cell_type": "code",
   "execution_count": null,
   "id": "23c16390-453c-4e82-9258-51beccc695a6",
   "metadata": {},
   "outputs": [],
   "source": []
  }
 ],
 "metadata": {
  "kernelspec": {
   "display_name": "snp2cell",
   "language": "python",
   "name": "snp2cell"
  },
  "language_info": {
   "codemirror_mode": {
    "name": "ipython",
    "version": 3
   },
   "file_extension": ".py",
   "mimetype": "text/x-python",
   "name": "python",
   "nbconvert_exporter": "python",
   "pygments_lexer": "ipython3",
   "version": "3.11.6"
  }
 },
 "nbformat": 4,
 "nbformat_minor": 5
}
