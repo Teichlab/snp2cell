{
 "cells": [
  {
   "cell_type": "markdown",
   "id": "89d125e8",
   "metadata": {},
   "source": [
    "# A Markdown cell\n",
    "- You can do all the fun stuff markdown has to offer\n",
    "- This will be replaced by an usage example"
   ]
  },
  {
   "cell_type": "markdown",
   "id": "f37cec66",
   "metadata": {
    "lines_to_next_cell": 2
   },
   "source": [
    "## Another Markdown cell"
   ]
  },
  {
   "cell_type": "code",
   "execution_count": null,
   "id": "bf89cbe8",
   "metadata": {
    "lines_to_next_cell": 1
   },
   "outputs": [],
   "source": [
    "# This is a code cell\n",
    "class A():\n",
    "    def one():\n",
    "        return 1\n",
    "\n",
    "    def two():\n",
    "        return 2"
   ]
  },
  {
   "cell_type": "code",
   "execution_count": null,
   "id": "62bf2e9e",
   "metadata": {},
   "outputs": [],
   "source": [
    "# This is another code cell\n",
    "import numpy as np\n",
    "\n",
    "mylist = np.arange(0,10)\n",
    "print(f\"this is my list {mylist}\")"
   ]
  }
 ],
 "metadata": {
  "jupytext": {
   "cell_metadata_filter": "-all",
   "main_language": "python",
   "notebook_metadata_filter": "-all"
  }
 },
 "nbformat": 4,
 "nbformat_minor": 5
}
